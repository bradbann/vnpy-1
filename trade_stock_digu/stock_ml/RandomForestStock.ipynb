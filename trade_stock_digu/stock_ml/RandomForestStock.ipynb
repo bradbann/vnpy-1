{
 "cells": [
  {
   "cell_type": "code",
   "execution_count": 3,
   "metadata": {},
   "outputs": [],
   "source": [
    "import tushare as ts\n",
    "from time import time, sleep\n",
    "from sklearn.preprocessing import StandardScaler\n",
    "from sklearn.preprocessing import PolynomialFeatures\n",
    "from sklearn.model_selection import train_test_split\n",
    "from sklearn.linear_model import LogisticRegressionCV\n",
    "from sklearn.svm import SVC\n",
    "from sklearn.metrics import recall_score, confusion_matrix, precision_score\n",
    "from sklearn.pipeline import Pipeline\n",
    "from sklearn.model_selection import GridSearchCV\n",
    "import numpy as np\n",
    "import pandas as pd\n",
    "from pymongo import MongoClient, ASCENDING, DESCENDING\n",
    "from vnpy.trade_stock_digu.data_service import DataServiceTushare, LOG"
   ]
  },
  {
   "cell_type": "code",
   "execution_count": 10,
   "metadata": {},
   "outputs": [],
   "source": [
    "arr = np.array([[2,20,200,1], [3,30,300,1], [4, 40,400,1]])"
   ]
  },
  {
   "cell_type": "code",
   "execution_count": 11,
   "metadata": {},
   "outputs": [
    {
     "data": {
      "text/plain": [
       "array([[  2,  20, 200,   1],\n",
       "       [  3,  30, 300,   1],\n",
       "       [  4,  40, 400,   1]])"
      ]
     },
     "execution_count": 11,
     "metadata": {},
     "output_type": "execute_result"
    }
   ],
   "source": [
    "arr"
   ]
  },
  {
   "cell_type": "code",
   "execution_count": 20,
   "metadata": {},
   "outputs": [
    {
     "data": {
      "text/plain": [
       "array([-1, -2, -3])"
      ]
     },
     "execution_count": 20,
     "metadata": {},
     "output_type": "execute_result"
    }
   ],
   "source": [
    "arr[:,3] - arr[:,0]"
   ]
  },
  {
   "cell_type": "code",
   "execution_count": 26,
   "metadata": {},
   "outputs": [
    {
     "data": {
      "text/plain": [
       "array([[ -1,  -2,  -3],\n",
       "       [-19, -29, -39]])"
      ]
     },
     "execution_count": 26,
     "metadata": {},
     "output_type": "execute_result"
    }
   ],
   "source": [
    "np.vstack((arr[:,3] - arr[:,0], arr[:,3] - arr[:,1]))"
   ]
  },
  {
   "cell_type": "code",
   "execution_count": 28,
   "metadata": {},
   "outputs": [],
   "source": [
    "l1 = [1,2,3]\n",
    "l2=[2,3,4]\n",
    "arr = np.array([l1, l2])"
   ]
  },
  {
   "cell_type": "code",
   "execution_count": 29,
   "metadata": {},
   "outputs": [
    {
     "data": {
      "text/plain": [
       "array([[1, 2, 3],\n",
       "       [2, 3, 4]])"
      ]
     },
     "execution_count": 29,
     "metadata": {},
     "output_type": "execute_result"
    }
   ],
   "source": [
    "arr"
   ]
  },
  {
   "cell_type": "code",
   "execution_count": 39,
   "metadata": {},
   "outputs": [],
   "source": [
    "ds_tushare = DataServiceTushare()"
   ]
  },
  {
   "cell_type": "code",
   "execution_count": 35,
   "metadata": {},
   "outputs": [
    {
     "data": {
      "text/plain": [
       "sklearn.utils.Bunch"
      ]
     },
     "execution_count": 35,
     "metadata": {},
     "output_type": "execute_result"
    }
   ],
   "source": []
  },
  {
   "cell_type": "code",
   "execution_count": 36,
   "metadata": {},
   "outputs": [
    {
     "data": {
      "text/plain": [
       "array([[1.423e+01, 1.710e+00, 2.430e+00, ..., 1.040e+00, 3.920e+00,\n",
       "        1.065e+03],\n",
       "       [1.320e+01, 1.780e+00, 2.140e+00, ..., 1.050e+00, 3.400e+00,\n",
       "        1.050e+03],\n",
       "       [1.316e+01, 2.360e+00, 2.670e+00, ..., 1.030e+00, 3.170e+00,\n",
       "        1.185e+03],\n",
       "       ...,\n",
       "       [1.327e+01, 4.280e+00, 2.260e+00, ..., 5.900e-01, 1.560e+00,\n",
       "        8.350e+02],\n",
       "       [1.317e+01, 2.590e+00, 2.370e+00, ..., 6.000e-01, 1.620e+00,\n",
       "        8.400e+02],\n",
       "       [1.413e+01, 4.100e+00, 2.740e+00, ..., 6.100e-01, 1.600e+00,\n",
       "        5.600e+02]])"
      ]
     },
     "execution_count": 36,
     "metadata": {},
     "output_type": "execute_result"
    }
   ],
   "source": []
  },
  {
   "cell_type": "code",
   "execution_count": 2,
   "metadata": {},
   "outputs": [],
   "source": [
    "from sklearn.preprocessing import StandardScaler\n",
    "from sklearn.preprocessing import PolynomialFeatures\n",
    "from sklearn.model_selection import train_test_split\n",
    "from sklearn.linear_model import LogisticRegressionCV\n",
    "from sklearn.metrics import recall_score, confusion_matrix, precision_score\n",
    "from sklearn.pipeline import Pipeline\n",
    "from sklearn.model_selection import GridSearchCV\n",
    "from sklearn.ensemble import RandomForestClassifier\n",
    "import numpy as np\n",
    "import pandas as pd\n",
    "from pymongo import MongoClient, ASCENDING, DESCENDING\n",
    "from vnpy.trade_stock_digu.data_service import DataServiceTushare, LOG\n",
    "\n",
    "if __name__ == \"__main__\":    \n",
    "    ds_tushare = DataServiceTushare()    \n",
    "    lst_stock = ds_tushare.get_stock_list()   \n",
    "    lst_ma5 = list()\n",
    "    lst_ma10 = list()\n",
    "    lst_close = list()\n",
    "    lst_pct_chg = list()\n",
    "    for item_stock in lst_stock:\n",
    "        lst_price_code = ds_tushare.get_stock_price_lst(item_stock, '20190101', '20190701')\n",
    "        if len(lst_price_code) == 0:\n",
    "            continue\n",
    "        lst_pct_chg_code = list()\n",
    "        for item_price in lst_price_code:\n",
    "            lst_ma5.append(item_price['ma_5'])\n",
    "            lst_ma10.append(item_price['ma_10'])\n",
    "            lst_close.append(item_price['close'])\n",
    "            lst_pct_chg_code.append(item_price['pct_chg'])   \n",
    "        arr_pct_chg_code = np.array(lst_pct_chg_code)\n",
    "        arr_pct_chg_code = np.roll(arr_pct_chg_code, -1)\n",
    "        arr_pct_chg_code = (arr_pct_chg_code > 0.0).astype(int)\n",
    "        lst_ma5.pop()\n",
    "        lst_ma10.pop()\n",
    "        lst_close.pop()\n",
    "        try:\n",
    "            arr_pct_chg_code = np.delete(arr_pct_chg_code, -1)\n",
    "        except:\n",
    "            LOG.info(arr_pct_chg_code)\n",
    "        lst_pct_chg += list(arr_pct_chg_code)        \n",
    "    arr_ma5 = np.array(lst_ma5)\n",
    "    arr_ma10 = np.array(lst_ma10)\n",
    "    arr_close = np.array(lst_close)    \n",
    "    arr_ma5_sub_close = arr_close - arr_ma5\n",
    "    arr_ma10_sub_close = arr_close - arr_ma10\n",
    "    arr_pct_chg = np.array(lst_pct_chg)\n",
    "    X = np.hstack((arr_ma5, arr_ma10))\n",
    "    y = arr_pct_chg\n",
    "    "
   ]
  },
  {
   "cell_type": "code",
   "execution_count": 3,
   "metadata": {},
   "outputs": [
    {
     "data": {
      "text/plain": [
       "(840452,)"
      ]
     },
     "execution_count": 3,
     "metadata": {},
     "output_type": "execute_result"
    }
   ],
   "source": [
    "X.shape"
   ]
  },
  {
   "cell_type": "code",
   "execution_count": 4,
   "metadata": {},
   "outputs": [
    {
     "data": {
      "text/plain": [
       "(420226,)"
      ]
     },
     "execution_count": 4,
     "metadata": {},
     "output_type": "execute_result"
    }
   ],
   "source": [
    "y.shape"
   ]
  },
  {
   "cell_type": "code",
   "execution_count": 5,
   "metadata": {},
   "outputs": [
    {
     "data": {
      "text/plain": [
       "array([9.04538, 9.03372, 9.12128, ..., 5.72932, 5.73528, 5.70122])"
      ]
     },
     "execution_count": 5,
     "metadata": {},
     "output_type": "execute_result"
    }
   ],
   "source": [
    "arr_ma5"
   ]
  },
  {
   "cell_type": "code",
   "execution_count": 6,
   "metadata": {},
   "outputs": [
    {
     "data": {
      "text/plain": [
       "array([9.25455, 9.17283, 9.15435, ..., 5.62513, 5.64597, 5.65474])"
      ]
     },
     "execution_count": 6,
     "metadata": {},
     "output_type": "execute_result"
    }
   ],
   "source": [
    "arr_ma10"
   ]
  },
  {
   "cell_type": "code",
   "execution_count": 7,
   "metadata": {},
   "outputs": [
    {
     "data": {
      "text/plain": [
       "420226"
      ]
     },
     "execution_count": 7,
     "metadata": {},
     "output_type": "execute_result"
    }
   ],
   "source": [
    "np.size(arr_ma5)\n"
   ]
  },
  {
   "cell_type": "code",
   "execution_count": 8,
   "metadata": {},
   "outputs": [],
   "source": [
    "X = np.vstack((arr_ma5, arr_ma10))"
   ]
  },
  {
   "cell_type": "code",
   "execution_count": 9,
   "metadata": {},
   "outputs": [
    {
     "data": {
      "text/plain": [
       "(2, 420226)"
      ]
     },
     "execution_count": 9,
     "metadata": {},
     "output_type": "execute_result"
    }
   ],
   "source": [
    "X.shape"
   ]
  },
  {
   "cell_type": "code",
   "execution_count": 10,
   "metadata": {},
   "outputs": [
    {
     "data": {
      "text/plain": [
       "array([[9.04538, 9.03372, 9.12128, ..., 5.72932, 5.73528, 5.70122],\n",
       "       [9.25455, 9.17283, 9.15435, ..., 5.62513, 5.64597, 5.65474]])"
      ]
     },
     "execution_count": 10,
     "metadata": {},
     "output_type": "execute_result"
    }
   ],
   "source": [
    "X"
   ]
  },
  {
   "cell_type": "code",
   "execution_count": 11,
   "metadata": {},
   "outputs": [
    {
     "data": {
      "text/plain": [
       "array([[9.04538, 9.25455],\n",
       "       [9.03372, 9.17283],\n",
       "       [9.12128, 9.15435],\n",
       "       ...,\n",
       "       [5.72932, 5.62513],\n",
       "       [5.73528, 5.64597],\n",
       "       [5.70122, 5.65474]])"
      ]
     },
     "execution_count": 11,
     "metadata": {},
     "output_type": "execute_result"
    }
   ],
   "source": [
    "X.T"
   ]
  },
  {
   "cell_type": "code",
   "execution_count": 1,
   "metadata": {},
   "outputs": [],
   "source": [
    "from sklearn.preprocessing import StandardScaler\n",
    "from sklearn.preprocessing import PolynomialFeatures\n",
    "from sklearn.model_selection import train_test_split\n",
    "from sklearn.linear_model import LogisticRegressionCV\n",
    "from sklearn.metrics import recall_score, confusion_matrix, precision_score\n",
    "from sklearn.pipeline import Pipeline\n",
    "from sklearn.model_selection import GridSearchCV\n",
    "from sklearn.ensemble import RandomForestClassifier\n",
    "import numpy as np\n",
    "import pandas as pd\n",
    "from pymongo import MongoClient, ASCENDING, DESCENDING\n",
    "from vnpy.trade_stock_digu.data_service import DataServiceTushare, LOG\n",
    "\n",
    "ds_tushare = DataServiceTushare()    \n",
    "lst_stock = ds_tushare.get_stock_list()   \n",
    "lst_ma5 = list()\n",
    "lst_ma10 = list()\n",
    "lst_close = list()\n",
    "lst_pct_chg = list()\n",
    "for item_stock in lst_stock:\n",
    "# for item_stock in ['000001_SZ', '000002_SZ', '000813_SZ']:\n",
    "    lst_price_code = ds_tushare.get_stock_price_lst(item_stock, '20190101', '20190701')\n",
    "    # lst_price_code = ds_tushare.get_stock_price_lst(item_stock, '20200805', '20200808')\n",
    "    if len(lst_price_code) == 0:\n",
    "        continue\n",
    "    lst_pct_chg_code = list()\n",
    "    for item_price in lst_price_code:\n",
    "        lst_ma5.append(item_price['ma_5'])\n",
    "        lst_ma10.append(item_price['ma_10'])\n",
    "        lst_close.append(item_price['close'])\n",
    "        lst_pct_chg_code.append(item_price['pct_chg'])   \n",
    "    arr_pct_chg_code = np.array(lst_pct_chg_code)\n",
    "    arr_pct_chg_code = np.roll(arr_pct_chg_code, -1)\n",
    "    arr_pct_chg_code = (arr_pct_chg_code > 0.0).astype(int)\n",
    "    lst_ma5.pop()\n",
    "    lst_ma10.pop()\n",
    "    lst_close.pop()\n",
    "    try:\n",
    "        arr_pct_chg_code = np.delete(arr_pct_chg_code, -1)\n",
    "    except:\n",
    "        LOG.info(arr_pct_chg_code)\n",
    "    lst_pct_chg += list(arr_pct_chg_code)        \n",
    "arr_ma5 = np.array(lst_ma5)\n",
    "arr_ma10 = np.array(lst_ma10)\n",
    "arr_close = np.array(lst_close)    \n",
    "arr_ma5_sub_close = (arr_close - arr_ma5)*100/arr_close\n",
    "arr_ma10_sub_close = (arr_close - arr_ma10)*100/arr_close\n",
    "arr_pct_chg = np.array(lst_pct_chg)\n",
    "X = np.vstack((arr_ma5_sub_close, arr_ma10_sub_close))\n",
    "y = arr_pct_chg\n",
    "    "
   ]
  },
  {
   "cell_type": "code",
   "execution_count": 59,
   "metadata": {},
   "outputs": [
    {
     "data": {
      "text/plain": [
       "(2, 420226)"
      ]
     },
     "execution_count": 59,
     "metadata": {},
     "output_type": "execute_result"
    }
   ],
   "source": [
    "from sklearn.model_selection import GridSearchCV, cross_val_score\n",
    "X.shape"
   ]
  },
  {
   "cell_type": "code",
   "execution_count": 60,
   "metadata": {},
   "outputs": [
    {
     "data": {
      "text/plain": [
       "(420226,)"
      ]
     },
     "execution_count": 60,
     "metadata": {},
     "output_type": "execute_result"
    }
   ],
   "source": [
    "y.shape"
   ]
  },
  {
   "cell_type": "code",
   "execution_count": 2,
   "metadata": {},
   "outputs": [],
   "source": [
    "X = X.T"
   ]
  },
  {
   "cell_type": "code",
   "execution_count": 3,
   "metadata": {},
   "outputs": [
    {
     "data": {
      "text/plain": [
       "(420226, 2)"
      ]
     },
     "execution_count": 3,
     "metadata": {},
     "output_type": "execute_result"
    }
   ],
   "source": [
    "X.shape"
   ]
  },
  {
   "cell_type": "code",
   "execution_count": 63,
   "metadata": {},
   "outputs": [
    {
     "data": {
      "text/plain": [
       "0.5121482179258061"
      ]
     },
     "execution_count": 63,
     "metadata": {},
     "output_type": "execute_result"
    }
   ],
   "source": [
    "rfc = RandomForestClassifier(n_estimators=100,random_state=90)\n",
    "score_pre = cross_val_score(rfc, X, y, cv=10).mean()\n",
    "score_pre"
   ]
  },
  {
   "cell_type": "code",
   "execution_count": null,
   "metadata": {},
   "outputs": [],
   "source": [
    "rfc.fit(X, y)"
   ]
  },
  {
   "cell_type": "code",
   "execution_count": 4,
   "metadata": {},
   "outputs": [],
   "source": [
    "np.save('stock_data_201901010701', X)"
   ]
  },
  {
   "cell_type": "code",
   "execution_count": null,
   "metadata": {},
   "outputs": [],
   "source": []
  }
 ],
 "metadata": {
  "kernelspec": {
   "display_name": "Python 3",
   "language": "python",
   "name": "python3"
  },
  "language_info": {
   "codemirror_mode": {
    "name": "ipython",
    "version": 3
   },
   "file_extension": ".py",
   "mimetype": "text/x-python",
   "name": "python",
   "nbconvert_exporter": "python",
   "pygments_lexer": "ipython3",
   "version": "3.7.1"
  }
 },
 "nbformat": 4,
 "nbformat_minor": 2
}
